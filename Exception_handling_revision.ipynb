{
 "cells": [
  {
   "cell_type": "markdown",
   "metadata": {},
   "source": [
    "- Introduction To Exception Handling\n",
    "- Exception Handling Keywords\n",
    "- Exception Handling Syntax\n",
    "- Handling Multiple Exceptions\n",
    "- Handling All Exceptions "
   ]
  },
  {
   "cell_type": "markdown",
   "metadata": {
    "colab_type": "text",
    "id": "QcLXV8gCcRGN"
   },
   "source": [
    "##  Errors and Exception Handling\n",
    "\n"
   ]
  },
  {
   "cell_type": "code",
   "execution_count": 1,
   "metadata": {
    "colab": {},
    "colab_type": "code",
    "id": "QLimqLoDcRGQ",
    "outputId": "05e531cb-9811-45ef-eae3-dcb4165786e8"
   },
   "outputs": [
    {
     "name": "stdout",
     "output_type": "stream",
     "text": [
      "Hello\n"
     ]
    }
   ],
   "source": [
    "print('Hello')"
   ]
  },
  {
   "cell_type": "code",
   "execution_count": 3,
   "metadata": {
    "colab": {},
    "colab_type": "code",
    "id": "Ca68cILRcRGm",
    "outputId": "2ac72377-fd95-401e-a4ae-2d678503c555"
   },
   "outputs": [
    {
     "name": "stdout",
     "output_type": "stream",
     "text": [
      "Error: Could not find file or read data\n"
     ]
    }
   ],
   "source": [
    "try:\n",
    "    f = open('demo_file','r')\n",
    "    f.write('Test write this')\n",
    "except IOError:\n",
    "    # This will only check for an IOError exception and then execute this print statement\n",
    "   print(\"Error: Could not find file or read data\")\n",
    "else:\n",
    "   print(\"Content written successfully\")\n",
    "   f.close()"
   ]
  },
  {
   "cell_type": "markdown",
   "metadata": {
    "colab_type": "text",
    "id": "J78YxWLecRGq"
   },
   "source": [
    "Notice, how we only printed a statement! The code still ran and we were able to continue doing actions and running code blocks. This is extremely useful when you have to account for possible input errors in your code. You can be prepared for the error and keep running code, instead of your code just breaking as we saw above.\n",
    "\n",
    "We could have also just said except: if we weren't sure what exception would occur. For example:"
   ]
  },
  {
   "cell_type": "code",
   "execution_count": 6,
   "metadata": {
    "colab": {},
    "colab_type": "code",
    "id": "nC4hsHwfcRGr",
    "outputId": "025350e4-2df0-4fea-c2ab-796cf8421ae0"
   },
   "outputs": [
    {
     "name": "stdout",
     "output_type": "stream",
     "text": [
      "Error: Could not find file or read data\n"
     ]
    }
   ],
   "source": [
    "try:\n",
    "    f = open('testfile','r')\n",
    "    f.write('Test write this')\n",
    "except:\n",
    "    # This will check for any exception and then execute this print statement\n",
    "   print(\"Error: Could not find file or read data\")\n",
    "else:\n",
    "   print(\"Content written successfully\")\n",
    "   f.close()"
   ]
  },
  {
   "cell_type": "markdown",
   "metadata": {
    "colab_type": "text",
    "id": "AP6bIWfVcRGx"
   },
   "source": [
    "Now, we don't actually need to memorize the list of exception types! Now what if we keep wanting to run code after the exception occurred? This is where **finally** comes in.\n",
    "### finally\n",
    "The finally: Block of code will always be run regardless if there was an exception in the try code block. The syntax is:\n",
    "\n",
    "    try:\n",
    "       Code block here\n",
    "       ...\n",
    "       Due to any exception, this code may be skipped!\n",
    "    finally:\n",
    "       This code block would always be executed.\n",
    "\n",
    "For example:"
   ]
  },
  {
   "cell_type": "code",
   "execution_count": 9,
   "metadata": {
    "colab": {},
    "colab_type": "code",
    "id": "M2QkPS-BcRGy",
    "outputId": "160fa02e-cf3c-419f-8230-c36919c7dff2"
   },
   "outputs": [
    {
     "name": "stdout",
     "output_type": "stream",
     "text": [
      "Always execute finally code blocks\n"
     ]
    }
   ],
   "source": [
    "try:\n",
    "   f = open(\"testfile\", \"w\")\n",
    "   f.write(\"Test write statement\")\n",
    "finally:\n",
    "   print(\"Always execute finally code blocks\")"
   ]
  },
  {
   "cell_type": "markdown",
   "metadata": {
    "colab_type": "text",
    "id": "i7NBKb3BcRG3"
   },
   "source": [
    "We can use this in conjunction with except. Let's see a new example that will take into account a user putting in the wrong input:"
   ]
  },
  {
   "cell_type": "code",
   "execution_count": 12,
   "metadata": {
    "colab": {},
    "colab_type": "code",
    "id": "tN0103-QcRG4"
   },
   "outputs": [],
   "source": [
    "def askint():\n",
    "        try:\n",
    "            val = int(input(\"Please enter an integer: \"))\n",
    "        except:\n",
    "            print(\"Looks like you did not enter an integer!\")\n",
    "            \n",
    "        finally:\n",
    "            print(\"Finally, I executed!\")\n",
    "        print(val)       "
   ]
  },
  {
   "cell_type": "code",
   "execution_count": 14,
   "metadata": {
    "colab": {},
    "colab_type": "code",
    "id": "uLP2ii48cRG8",
    "outputId": "0b9da84c-0686-412d-f439-65d54f50d1d4"
   },
   "outputs": [
    {
     "name": "stdin",
     "output_type": "stream",
     "text": [
      "Please enter an integer:  262\n"
     ]
    },
    {
     "name": "stdout",
     "output_type": "stream",
     "text": [
      "Finally, I executed!\n",
      "262\n"
     ]
    }
   ],
   "source": [
    "askint()"
   ]
  },
  {
   "cell_type": "code",
   "execution_count": 15,
   "metadata": {
    "colab": {},
    "colab_type": "code",
    "id": "YIaBFPGNcRHH"
   },
   "outputs": [],
   "source": [
    "def askint():\n",
    "        try:\n",
    "            val = int(input(\"Please enter an integer: \"))\n",
    "        except:\n",
    "            print(\"Looks like you did not enter an integer!\")\n",
    "            try:\n",
    "                val = int(input(\"Try again-Please enter an integer: \"))\n",
    "            except:\n",
    "                print(\"handle it \")\n",
    "        finally:\n",
    "            print(\"Finally, I executed!\")"
   ]
  },
  {
   "cell_type": "code",
   "execution_count": null,
   "metadata": {
    "colab": {},
    "colab_type": "code",
    "id": "7UrPQ_i4cRHN",
    "outputId": "ebd09edd-ffab-4681-8b81-c529c1aaa33c"
   },
   "outputs": [
    {
     "name": "stdout",
     "output_type": "stream",
     "text": [
      "Please enter an integer: six\n",
      "Looks like you did not enter an integer!\n",
      "Try again-Please enter an integer: 44\n",
      "Finally, I executed!\n"
     ]
    }
   ],
   "source": [
    "askint()"
   ]
  },
  {
   "cell_type": "markdown",
   "metadata": {
    "colab_type": "text",
    "id": "jk13caOgcRHR"
   },
   "source": [
    "Hmmm...that only did one check. How can we continually keep checking? We can use a while loop!"
   ]
  },
  {
   "cell_type": "code",
   "execution_count": null,
   "metadata": {
    "colab": {},
    "colab_type": "code",
    "id": "10_LYJ17cRHR"
   },
   "outputs": [],
   "source": [
    "def askint():\n",
    "    while True:\n",
    "        try:\n",
    "            val = int(input(\"Please enter an integer: \"))\n",
    "        except:\n",
    "            print(\"Looks like you did not enter an integer!\")\n",
    "            break\n",
    "        else:\n",
    "            print('Yep thats an integer!')\n",
    "            break\n",
    "        finally:\n",
    "            print(\"Finally, I executed!\")\n",
    "            print(val) "
   ]
  },
  {
   "cell_type": "markdown",
   "metadata": {
    "colab_type": "text",
    "collapsed": true,
    "id": "Tuhhy21ncRHa",
    "jupyter": {
     "outputs_hidden": true
    }
   },
   "source": [
    "### Raising an exception\n",
    "\n",
    "We can raise an excepton by using raise statement. Let us check with examples:-"
   ]
  },
  {
   "cell_type": "code",
   "execution_count": null,
   "metadata": {
    "colab": {},
    "colab_type": "code",
    "id": "zAgFzTtocRHb",
    "outputId": "2e0c9893-2fca-49ea-8137-3515a742bed6"
   },
   "outputs": [
    {
     "name": "stdout",
     "output_type": "stream",
     "text": [
      "7\n",
      "Error is  2\n"
     ]
    }
   ],
   "source": [
    "def raise_exc(a):\n",
    "    if a < 5:\n",
    "        raise Exception(a) # If exception raised code below to this will not execute\n",
    "        \n",
    "    return a\n",
    "\n",
    "try:\n",
    "    res1 = raise_exc(7)\n",
    "    print(res1)\n",
    "    res = raise_exc(2)\n",
    "    print(res)\n",
    "except Exception as e:\n",
    "    print(\"Error is \", e)"
   ]
  },
  {
   "cell_type": "markdown",
   "metadata": {
    "colab_type": "text",
    "id": "cvUGju_ZcRHi"
   },
   "source": [
    "### User defined exception\n",
    "\n",
    "Developers can create their own exceptions by creating a new exception which will be derived from the Exception class.The newly created exception nae should be ended with “Error” similar to naming of the standard exceptions in python."
   ]
  },
  {
   "cell_type": "code",
   "execution_count": null,
   "metadata": {
    "colab": {},
    "colab_type": "code",
    "id": "MOV0aLIucRHl",
    "outputId": "b512e14f-ae48-49c7-c766-c8494973775b"
   },
   "outputs": [
    {
     "name": "stdout",
     "output_type": "stream",
     "text": [
      "A New Exception occured:  5\n"
     ]
    }
   ],
   "source": [
    "''' Create user-defined exception \n",
    "    MyError is derived from super class Exception \n",
    "'''\n",
    "class NewError(Exception): \n",
    "  \n",
    "    # Constructor or Initializer \n",
    "    def __init__(self, val): \n",
    "        self.val = val \n",
    "  \n",
    "    # __str__ is to print() the value \n",
    "    def __str__(self): \n",
    "        return(repr(self.val)) \n",
    "  \n",
    "try: \n",
    "    raise(NewError(5)) \n",
    "except NewError as e: \n",
    "    print('A New Exception occured: ',e.val) "
   ]
  },
  {
   "cell_type": "code",
   "execution_count": null,
   "metadata": {
    "colab": {},
    "colab_type": "code",
    "id": "IEHfnVa6cRHt",
    "outputId": "7e37361f-d681-4b09-f40e-1f65cf366680"
   },
   "outputs": [
    {
     "data": {
      "image/png": "[encoded data removed]",
      "text/plain": [
       "<IPython.core.display.Image object>"
      ]
     },
     "execution_count": 24,
     "metadata": {
      "tags": []
     },
     "output_type": "execute_result"
    }
   ],
   "source": [
    "from IPython.display import Image\n",
    "Image(filename='img/assertion.png')"
   ]
  },
  {
   "cell_type": "code",
   "execution_count": null,
   "metadata": {
    "colab": {},
    "colab_type": "code",
    "id": "84TRQeOmcRHz",
    "outputId": "d66905e7-b85e-4ce3-98cc-d58abe22243e"
   },
   "outputs": [
    {
     "name": "stdout",
     "output_type": "stream",
     "text": [
      "Both variables are not the same\n"
     ]
    }
   ],
   "source": [
    "# Assert for comparing two variables\n",
    "try: \n",
    "    x = 1\n",
    "    y = 1\n",
    "    assert x != y, \"Both variables are not the same\"\n",
    "    print(x , y) \n",
    "  \n",
    "# the error message we provided gets printed  \n",
    "except AssertionError as msg:  \n",
    "    print(msg) "
   ]
  },
  {
   "cell_type": "code",
   "execution_count": null,
   "metadata": {
    "colab": {},
    "colab_type": "code",
    "id": "rVHqFaWGcRH2",
    "outputId": "0e10824d-23cb-4d3e-bb5c-ec09b2a882cd"
   },
   "outputs": [
    {
     "name": "stdout",
     "output_type": "stream",
     "text": [
      "The element is a\n",
      "Oo! invalid literal for int() with base 10: 'a' occurred.\n",
      "Next check for another element in a list.\n",
      "\n",
      "The element is 0\n",
      "Oo! division by zero occurred.\n",
      "Next check for another element in a list.\n",
      "\n",
      "The element is 2\n",
      "1.0\n"
     ]
    }
   ],
   "source": [
    "# Looping through list and print division of given element with the element itself if element is int else raise exception\n",
    "\n",
    "list1 = ['a', 0, 2] # For str 'a' raise error, for 0 raise zero division error\n",
    "\n",
    "for el in list1:\n",
    "    try:\n",
    "        print(\"The element is\", el)\n",
    "        res = int(el)/int(el)\n",
    "        break\n",
    "    except Exception as e:\n",
    "        print(\"Oo!\", e, \"occurred.\")\n",
    "        print(\"Next check for another element in a list.\")\n",
    "        print()\n",
    "print(res)"
   ]
  },
  {
   "cell_type": "code",
   "execution_count": null,
   "metadata": {
    "colab": {},
    "colab_type": "code",
    "id": "qaBuiyfycRH6",
    "outputId": "9db5e4f9-9092-4518-834c-bd97ae547859"
   },
   "outputs": [
    {
     "name": "stdout",
     "output_type": "stream",
     "text": [
      "Enter a positive integer: -8\n",
      "That is not a positive number!\n"
     ]
    }
   ],
   "source": [
    "# try with if condition if not positive number it will raise an exception using raise\n",
    "try:\n",
    "    a = int(input(\"Enter a positive integer: \"))\n",
    "    if a <= 0:\n",
    "        raise ValueError(\"That is not a positive number!\")\n",
    "except ValueError as ve:\n",
    "    print(ve)"
   ]
  },
  {
   "cell_type": "code",
   "execution_count": null,
   "metadata": {
    "colab": {},
    "colab_type": "code",
    "id": "zw6gP_XkcRH-",
    "outputId": "64d7a9be-a058-4d9c-faf2-2c9d50615868"
   },
   "outputs": [
    {
     "name": "stdout",
     "output_type": "stream",
     "text": [
      "Enter a number: 32\n",
      "Executing else block as try block hasn't raise an exception.\n"
     ]
    }
   ],
   "source": [
    "# Simple program for even number using try else and assert \n",
    "try:\n",
    "    num = int(input(\"Enter a number: \"))\n",
    "    assert num % 2 == 0\n",
    "except:\n",
    "    print(\"Not an even number!\")\n",
    "else:\n",
    "    print(\"Executing else block as try block hasn't raise an exception.\")"
   ]
  },
  {
   "cell_type": "code",
   "execution_count": null,
   "metadata": {
    "colab": {},
    "colab_type": "code",
    "id": "qZm1fD2BcRIC"
   },
   "outputs": [],
   "source": [
    "# Defining function for raising exception\n",
    "def raise_exception(ex):\n",
    "    raise ex"
   ]
  },
  {
   "cell_type": "code",
   "execution_count": null,
   "metadata": {
    "colab": {},
    "colab_type": "code",
    "id": "xKZmm7vAcRIF"
   },
   "outputs": [],
   "source": [
    "# Use of lambad function with exception raise if value < 10 will raise an exception\n",
    "y = lambda x: 2*x if x < 10 else raise_exception(Exception('Value is greater than 10'))"
   ]
  },
  {
   "cell_type": "code",
   "execution_count": null,
   "metadata": {
    "colab": {},
    "colab_type": "code",
    "id": "IV2gMhQmcRIK",
    "outputId": "04b127c5-5719-4f83-da33-d82b0d0b3d3f"
   },
   "outputs": [
    {
     "data": {
      "text/plain": [
       "10"
      ]
     },
     "execution_count": 56,
     "metadata": {
      "tags": []
     },
     "output_type": "execute_result"
    }
   ],
   "source": [
    "y(5)"
   ]
  },
  {
   "cell_type": "code",
   "execution_count": null,
   "metadata": {
    "colab": {},
    "colab_type": "code",
    "id": "dWTm_uZdcRIb"
   },
   "outputs": [],
   "source": [
    "# defining function for finding sqrt and checking type of number and raise exception if not an int/float\n",
    "import math\n",
    "def find_sqrt(a):\n",
    "    if not isinstance(a,(int,float)):\n",
    "        raise TypeError(\"a must be numeric\")\n",
    "    elif a < 0:\n",
    "        raise TypeError(\"a should not be negative\")\n",
    "    else:\n",
    "        print(math.sqrt(a))"
   ]
  },
  {
   "cell_type": "code",
   "execution_count": null,
   "metadata": {
    "colab": {},
    "colab_type": "code",
    "id": "NkXXBm-1cRIe",
    "outputId": "2d6ec993-c6d0-4a06-8e98-080319928ba4"
   },
   "outputs": [
    {
     "ename": "TypeError",
     "evalue": "a must be numeric",
     "output_type": "error",
     "traceback": [
      "\u001b[1;31m---------------------------------------------------------------------------\u001b[0m",
      "\u001b[1;31mTypeError\u001b[0m                                 Traceback (most recent call last)",
      "\u001b[1;32m<ipython-input-2-31a3948965a9>\u001b[0m in \u001b[0;36m<module>\u001b[1;34m\u001b[0m\n\u001b[1;32m----> 1\u001b[1;33m \u001b[0mfind_sqrt\u001b[0m\u001b[1;33m(\u001b[0m\u001b[1;34m\"scsc\"\u001b[0m\u001b[1;33m)\u001b[0m\u001b[1;33m\u001b[0m\u001b[1;33m\u001b[0m\u001b[0m\n\u001b[0m",
      "\u001b[1;32m<ipython-input-1-e201b0a49914>\u001b[0m in \u001b[0;36mfind_sqrt\u001b[1;34m(a)\u001b[0m\n\u001b[0;32m      3\u001b[0m \u001b[1;32mdef\u001b[0m \u001b[0mfind_sqrt\u001b[0m\u001b[1;33m(\u001b[0m\u001b[0ma\u001b[0m\u001b[1;33m)\u001b[0m\u001b[1;33m:\u001b[0m\u001b[1;33m\u001b[0m\u001b[1;33m\u001b[0m\u001b[0m\n\u001b[0;32m      4\u001b[0m     \u001b[1;32mif\u001b[0m \u001b[1;32mnot\u001b[0m \u001b[0misinstance\u001b[0m\u001b[1;33m(\u001b[0m\u001b[0ma\u001b[0m\u001b[1;33m,\u001b[0m\u001b[1;33m(\u001b[0m\u001b[0mint\u001b[0m\u001b[1;33m,\u001b[0m\u001b[0mfloat\u001b[0m\u001b[1;33m)\u001b[0m\u001b[1;33m)\u001b[0m\u001b[1;33m:\u001b[0m\u001b[1;33m\u001b[0m\u001b[1;33m\u001b[0m\u001b[0m\n\u001b[1;32m----> 5\u001b[1;33m         \u001b[1;32mraise\u001b[0m \u001b[0mTypeError\u001b[0m\u001b[1;33m(\u001b[0m\u001b[1;34m\"a must be numeric\"\u001b[0m\u001b[1;33m)\u001b[0m\u001b[1;33m\u001b[0m\u001b[1;33m\u001b[0m\u001b[0m\n\u001b[0m\u001b[0;32m      6\u001b[0m     \u001b[1;32melif\u001b[0m \u001b[0ma\u001b[0m \u001b[1;33m<\u001b[0m \u001b[1;36m0\u001b[0m\u001b[1;33m:\u001b[0m\u001b[1;33m\u001b[0m\u001b[1;33m\u001b[0m\u001b[0m\n\u001b[0;32m      7\u001b[0m         \u001b[1;32mraise\u001b[0m \u001b[0mTypeError\u001b[0m\u001b[1;33m(\u001b[0m\u001b[1;34m\"a should not be negative\"\u001b[0m\u001b[1;33m)\u001b[0m\u001b[1;33m\u001b[0m\u001b[1;33m\u001b[0m\u001b[0m\n",
      "\u001b[1;31mTypeError\u001b[0m: a must be numeric"
     ]
    }
   ],
   "source": [
    "find_sqrt(\"scsc\")"
   ]
  },
  {
   "cell_type": "code",
   "execution_count": null,
   "metadata": {
    "colab": {},
    "colab_type": "code",
    "id": "UIqPoaLWcRIp",
    "outputId": "02ffb810-9881-43af-c6d9-69109ed4da93"
   },
   "outputs": [
    {
     "name": "stdout",
     "output_type": "stream",
     "text": [
      "2.449489742783178\n"
     ]
    }
   ],
   "source": [
    "find_sqrt(6)"
   ]
  },
  {
   "cell_type": "markdown",
   "metadata": {},
   "source": [
    "### What Is An Exception ?"
   ]
  },
  {
   "cell_type": "markdown",
   "metadata": {
    "colab": {},
    "colab_type": "code",
    "id": "tGUTWXjucRIu"
   },
   "source": [
    "Exception are errors that occur at runtime .\n",
    "\n",
    "\n",
    "\n",
    "In other words , if our program encounters an abnormal situation during it’s execution it raises an exception.\n",
    "\n",
    "\n",
    "For example,the statement \n",
    "        \n",
    "        a=10/0 \n",
    "\n",
    "will generate an exception because Python has no way to solve division by 0\n"
   ]
  },
  {
   "cell_type": "markdown",
   "metadata": {},
   "source": [
    "### A Sample Code"
   ]
  },
  {
   "cell_type": "code",
   "execution_count": null,
   "metadata": {},
   "outputs": [],
   "source": [
    "a=int(input(\"Enter first no:\"))\n",
    "b=int(input(\"Enter second no:\"))\n",
    "c=a/b\n",
    "print(\"Div is\",c)\n",
    "d=a+b\n",
    "print(\"Sum is\",d)"
   ]
  },
  {
   "cell_type": "markdown",
   "metadata": {},
   "source": [
    "As we can observe , in the second run the code generated exception because Python does not know how to handle division by 0. Moreover it did not even calculated the sum of 10 and 0 which is possible\n"
   ]
  },
  {
   "cell_type": "markdown",
   "metadata": {},
   "source": [
    "### How To Handle \u000b",
    "Such Situations ?"
   ]
  },
  {
   "cell_type": "markdown",
   "metadata": {},
   "source": [
    "If we want our program to behave normally , even if an exception occurs , then we will have to apply     Exception Handling\n",
    "\n",
    "\n",
    "Exception handling is a mechanism which allows us to handle errors gracefully while the program is running instead of abruptly ending the program execution.\u000b",
    "\n"
   ]
  },
  {
   "cell_type": "markdown",
   "metadata": {},
   "source": [
    "Python provides 5 keywords to perform Exception Handling:\n",
    "\n",
    "try\n",
    "\n",
    "except\n",
    "\n",
    "else\n",
    "\n",
    "raise\n",
    "\n",
    "finally\n"
   ]
  },
  {
   "cell_type": "markdown",
   "metadata": {},
   "source": [
    "Following is the syntax of a Python try-except-else block.\n",
    "\n",
    "try: \n",
    "\n",
    "\tYou do your operations here; \n",
    "\t...................... \n",
    "except ExceptionI:\n",
    "\n",
    "\tIf there is ExceptionI, then execute this block.\n",
    "    \n",
    "except ExceptionII:\n",
    "\n",
    "\tIf there is ExceptionII, then execute this block. \n",
    "\t...................... \n",
    "else:\n",
    "\n",
    "\tIf there is no exception then execute this block.\n"
   ]
  },
  {
   "cell_type": "markdown",
   "metadata": {},
   "source": [
    "Remember ! \n",
    "In place of Exception I and Exception II , we have to use the names of Exception classes in Python\n"
   ]
  },
  {
   "cell_type": "code",
   "execution_count": 21,
   "metadata": {},
   "outputs": [
    {
     "name": "stdout",
     "output_type": "stream",
     "text": [
      "Enter first no:10\n",
      "Enter second no:0\n",
      "division by zero\n",
      "Sum is 10\n"
     ]
    }
   ],
   "source": [
    "a=int(input(\"Enter first no:\"))\n",
    "b=int(input(\"Enter second no:\"))\n",
    "try:\n",
    "\tc=a/b\n",
    "\tprint(\"Div is\",c)\n",
    "except ZeroDivisionError as e:\n",
    "\tprint(e)\n",
    "d=a+b\n",
    "print(\"Sum is\",d) \n"
   ]
  },
  {
   "attachments": {
    "image.png": {
     "image/png": "[encoded data removed]"
    }
   },
   "cell_type": "markdown",
   "metadata": {},
   "source": [
    "![image.png](attachment:image.png)"
   ]
  },
  {
   "cell_type": "markdown",
   "metadata": {},
   "source": [
    "Also , we must remember that if we are handling parent and child exception classes in except clause then the parent exception must appear after child exception , otherwise child except will never get a chance to run\n",
    "\n"
   ]
  },
  {
   "cell_type": "code",
   "execution_count": 14,
   "metadata": {},
   "outputs": [
    {
     "name": "stdout",
     "output_type": "stream",
     "text": [
      "2.0\n",
      "20.085536923187668\n"
     ]
    }
   ],
   "source": [
    "import math\n",
    "try:\n",
    "\n",
    "\tx=10/5\n",
    "\tprint(x)\n",
    "\tans=math.exp(3)\n",
    "\tprint(ans)\n",
    "\t\n",
    "except ZeroDivisionError:\n",
    "\tprint(\"Division by 0 exception occurred!\")\t\n",
    "except ArithmeticError:\n",
    "\tprint(\"Numeric calculation failed!\")\n"
   ]
  },
  {
   "cell_type": "code",
   "execution_count": 15,
   "metadata": {},
   "outputs": [
    {
     "name": "stdout",
     "output_type": "stream",
     "text": [
      "Division by 0 exception occurred!\n"
     ]
    }
   ],
   "source": [
    "import math\n",
    "try:\n",
    "\n",
    "\tx=10/0\n",
    "\tprint(x)\n",
    "\tans=math.exp(20000)\n",
    "\tprint(ans)\n",
    "\t\n",
    "except ZeroDivisionError:\n",
    "\tprint(\"Division by 0 exception occurred!\")\t\n",
    "except ArithmeticError:\n",
    "\tprint(\"Numeric calculation failed!\")\n"
   ]
  },
  {
   "cell_type": "code",
   "execution_count": 17,
   "metadata": {},
   "outputs": [
    {
     "name": "stdout",
     "output_type": "stream",
     "text": [
      "2.0\n",
      "Numeric calculation failed!\n"
     ]
    }
   ],
   "source": [
    "\n",
    "import math\n",
    "try:\n",
    "\n",
    "    x=10/5\n",
    "    print(x)\n",
    "    ans=math.exp(20000)\n",
    "    print(ans)\n",
    "\n",
    "except ZeroDivisionError:\n",
    "\tprint(\"Division by 0 exception occurred!\")\t\n",
    "except ArithmeticError:\n",
    "\tprint(\"Numeric calculation failed!\")\n"
   ]
  },
  {
   "cell_type": "code",
   "execution_count": 18,
   "metadata": {},
   "outputs": [
    {
     "name": "stdout",
     "output_type": "stream",
     "text": [
      "2.0\n",
      "Numeric calculation failed!\n"
     ]
    }
   ],
   "source": [
    "import math\n",
    "try:\n",
    "\n",
    "\tx=10/5\n",
    "\tprint(x)\n",
    "\tans=math.exp(20000)\n",
    "\tprint(ans)\n",
    "\n",
    "except ArithmeticError:\n",
    "\tprint(\"Numeric calculation failed!\")\n",
    "except ZeroDivisionError:\n",
    "\tprint(\"Division by 0 exception occurred!\")\t\n"
   ]
  },
  {
   "cell_type": "code",
   "execution_count": 19,
   "metadata": {},
   "outputs": [
    {
     "name": "stdout",
     "output_type": "stream",
     "text": [
      "Numeric calculation failed!\n"
     ]
    }
   ],
   "source": [
    "import math\n",
    "try:\n",
    "\n",
    "\tx=10/0\n",
    "\tprint(x)\n",
    "\tans=math.exp(20000)\n",
    "\tprint(ans)\n",
    "\n",
    "except ArithmeticError:\n",
    "\tprint(\"Numeric calculation failed!\")\n",
    "except ZeroDivisionError:\n",
    "\tprint(\"Division by 0 exception occurred!\")\t\n"
   ]
  },
  {
   "cell_type": "code",
   "execution_count": null,
   "metadata": {},
   "outputs": [],
   "source": [
    "while(True):\n",
    "\ttry:\n",
    "\t\ta=int(input(\"Input first no:\"))\n",
    "\t\tb=int(input(\"Input second no:\"))\n",
    "\t\tc=a/b\n",
    "\t\tprint(\"Div is \",c)\n",
    "\t\tbreak;\n",
    "\texcept ValueError:\n",
    "\t\tprint(\"Please input integers only! Try again\")\t\n",
    "\texcept ZeroDivisionError:\n",
    "\t\tprint(\"Please input non-zero denominator\")\t\n"
   ]
  },
  {
   "cell_type": "code",
   "execution_count": 22,
   "metadata": {},
   "outputs": [
    {
     "name": "stdout",
     "output_type": "stream",
     "text": [
      "Input first no:0\n",
      "Input second no:0\n",
      "Either input is incorrect or denominator is 0. Try again!\n",
      "Input first no:2\n",
      "Input second no:a\n",
      "Either input is incorrect or denominator is 0. Try again!\n",
      "Input first no:5\n",
      "Input second no:2\n",
      "Div is  2.5\n"
     ]
    }
   ],
   "source": [
    "while(True):\n",
    "\ttry:\n",
    "\t\ta=int(input(\"Input first no:\"))\n",
    "\t\tb=int(input(\"Input second no:\"))\n",
    "\t\tc=a/b\n",
    "\t\tprint(\"Div is \",c)\n",
    "\t\tbreak;\n",
    "\texcept (ValueError,ZeroDivisionError):\n",
    "\t\tprint(\"Either input is incorrect or denominator is 0. Try again!\")\t\n"
   ]
  },
  {
   "cell_type": "code",
   "execution_count": null,
   "metadata": {},
   "outputs": [],
   "source": [
    "We can write the keyword except without any exception class name also .\n",
    "\n",
    "\n",
    "In this case for every exception this except clause will run .\n",
    "\n",
    "\n",
    "The only problem will be that we will never know the type of exception that has occurred!\n"
   ]
  },
  {
   "cell_type": "markdown",
   "metadata": {},
   "source": [
    "### Notice , we have not provided any name for the exception\n"
   ]
  },
  {
   "cell_type": "code",
   "execution_count": 30,
   "metadata": {},
   "outputs": [
    {
     "name": "stdout",
     "output_type": "stream",
     "text": [
      "Input first no:10\n",
      "Input second no:0\n",
      "Some problem occurred. Try again!\n",
      "Input first no:12\n",
      "Input second no:9\n",
      "Div is  1.3333333333333333\n"
     ]
    }
   ],
   "source": [
    "while(True):\n",
    "    try:\n",
    "        a=int(input(\"Input first no:\"))\n",
    "        b=int(input(\"Input second no:\"))\n",
    "        c=a/b\n",
    "        print(\"Div is \",c)\n",
    "        break;\n",
    "    except:\n",
    "        print(\"Some problem occurred. Try again!\")\t\n"
   ]
  },
  {
   "cell_type": "code",
   "execution_count": null,
   "metadata": {},
   "outputs": [],
   "source": [
    "Using Exception Object"
   ]
  },
  {
   "cell_type": "code",
   "execution_count": null,
   "metadata": {},
   "outputs": [
    {
     "name": "stdout",
     "output_type": "stream",
     "text": [
      "Input first no:10\n",
      "Input second no:0\\\n",
      "invalid literal for int() with base 10: '0\\\\'\n"
     ]
    }
   ],
   "source": [
    "while(True):\n",
    "\ttry:\n",
    "\t\ta=int(input(\"Input first no:\"))\n",
    "\t\tb=int(input(\"Input second no:\"))\n",
    "\t\tc=a/b\n",
    "\t\tprint(\"Div is \",c)\n",
    "\t\tbreak;\n",
    "\texcept (ValueError,ZeroDivisionError) as e:\n",
    "\t\tprint(e)"
   ]
  },
  {
   "cell_type": "code",
   "execution_count": 4,
   "metadata": {},
   "outputs": [
    {
     "name": "stdout",
     "output_type": "stream",
     "text": [
      "Input first no:10\n",
      "Input second no:0\n",
      "Exception class: <class 'ZeroDivisionError'>\n",
      "Exception message: division by zero\n",
      "Line number: 6\n",
      "Input first no:10\n",
      "Input second no:5\n",
      "Div is  2.0\n"
     ]
    }
   ],
   "source": [
    "import sys\n",
    "while(True):\n",
    "\ttry:\n",
    "\t\ta=int(input(\"Input first no:\"))\n",
    "\t\tb=int(input(\"Input second no:\"))\n",
    "\t\tc=a/b\n",
    "\t\tprint(\"Div is \",c)\n",
    "\t\tbreak;\n",
    "\texcept:\n",
    "\t\ta,b,c=sys.exc_info()\n",
    "\t\tprint(\"Exception class:\",a)\n",
    "\t\tprint(\"Exception message:\",b)\n",
    "\t\tprint(\"Line number:\",c.tb_lineno) \t\n"
   ]
  },
  {
   "cell_type": "markdown",
   "metadata": {},
   "source": [
    "Sometimes , we need to print the details of the exception exactly like Python does .\n",
    "\n",
    "\n",
    "We do this normally , when we are debugging our code.\n",
    "\n",
    "\n",
    "The class traceback which is available in the module traceback helps us do this\n"
   ]
  },
  {
   "cell_type": "code",
   "execution_count": null,
   "metadata": {},
   "outputs": [],
   "source": [
    "This class contains a method called format_exc( ) \n",
    "\n",
    "\n",
    "\n",
    "It is a class method of traceback class and returns complete details of the exception as a string.\n",
    "\n",
    "This string contains:\n",
    "The program name in which exception occurred\n",
    "Line number where exception occurred\n",
    "The code which generated the exception\n",
    "The name of the exception class\n",
    "The message related to the exception\n"
   ]
  },
  {
   "cell_type": "code",
   "execution_count": 6,
   "metadata": {},
   "outputs": [],
   "source": [
    "import traceback"
   ]
  },
  {
   "cell_type": "code",
   "execution_count": 7,
   "metadata": {},
   "outputs": [
    {
     "name": "stdout",
     "output_type": "stream",
     "text": [
      "Input first no:10\n",
      "Input second no:0\n",
      "Traceback (most recent call last):\n",
      "  File \"<ipython-input-7-18a6bcc5f981>\", line 5, in <module>\n",
      "    c=a/b\n",
      "ZeroDivisionError: division by zero\n",
      "\n",
      "Input first no:10\n",
      "Input second no:6\n",
      "Div is  1.6666666666666667\n"
     ]
    }
   ],
   "source": [
    "while(True):\n",
    "\ttry:\n",
    "\t\ta=int(input(\"Input first no:\"))\n",
    "\t\tb=int(input(\"Input second no:\"))\n",
    "\t\tc=a/b\n",
    "\t\tprint(\"Div is \",c)\n",
    "\t\tbreak;\n",
    "\texcept:\n",
    "\t\tprint(traceback.format_exc())"
   ]
  },
  {
   "cell_type": "code",
   "execution_count": 10,
   "metadata": {},
   "outputs": [
    {
     "name": "stdout",
     "output_type": "stream",
     "text": [
      "please write a input:9\n",
      "please enter greater than 10\n",
      "please write a input:8\n",
      "please enter greater than 10\n",
      "please write a input:7\n",
      "please enter greater than 10\n",
      "please write a input:10\n",
      "please enter greater than 10\n",
      "please write a input:10\n",
      "please enter greater than 10\n",
      "please write a input:11\n"
     ]
    }
   ],
   "source": [
    "while(True):\n",
    "    a=int(input(\"please write a input:\"))\n",
    "    if a>10:\n",
    "        break\n",
    "    print(\"please enter greater than 10\")"
   ]
  },
  {
   "cell_type": "code",
   "execution_count": 8,
   "metadata": {},
   "outputs": [
    {
     "name": "stdout",
     "output_type": "stream",
     "text": [
      "Input first no:10\n",
      "Input second no:a\n",
      "Please input integers only! Try again\n",
      "Input first no:10\n",
      "Input second no:0\n",
      "Please input non-zero denominator\n",
      "Input first no:10\n",
      "Input second no:-4\n",
      "Negative numbers not allowed!Try again\n",
      "Input first no:10\n",
      "Input second no:5\n",
      "Div is  2.0\n"
     ]
    }
   ],
   "source": [
    "while(True):\n",
    "\ttry:\n",
    "\t\ta=int(input(\"Input first no:\"))\n",
    "\t\tb=int(input(\"Input second no:\"))\n",
    "\t\tif a<0 or b<0:\n",
    "\t\t\traise Exception(\"Negative numbers not allowed!Try again\")\n",
    "\t\tc=a/b\n",
    "\t\tprint(\"Div is \",c)\n",
    "\t\tbreak;\n",
    "\texcept ValueError:\n",
    "\t\tprint(\"Please input integers only! Try again\")\t\n",
    "\texcept ZeroDivisionError:\n",
    "\t\tprint(\"Please input non-zero denominator\")\t\n",
    "\texcept Exception as e:\n",
    "\t\tprint(e)\t\n"
   ]
  },
  {
   "cell_type": "markdown",
   "metadata": {},
   "source": [
    "If we have a code which we want to run in all situations, then we should write it inside the  finally block.\n",
    "\n",
    "\n",
    "Python will always run the instructions coded in the finally block.\n",
    "\n",
    "\n",
    "It is the most common way of doing clean up tasks , like, closing a file or disconnecting with the DB or logging out the user etc\n"
   ]
  },
  {
   "cell_type": "code",
   "execution_count": null,
   "metadata": {},
   "outputs": [],
   "source": [
    "The finally block has 2 syntaxes:\n",
    "Syntax 1\n",
    "try:\n",
    "\t# some exception generating code\n",
    "except :\n",
    "\t# exception handling code\n",
    "finally:\n",
    "\t# code to be always executed\n",
    "try:\n",
    "\t# some exception generating code\n",
    "finally:\n",
    "\t# code to be always executed\n"
   ]
  },
  {
   "cell_type": "code",
   "execution_count": null,
   "metadata": {},
   "outputs": [],
   "source": [
    "while(True):\n",
    "\ttry:\n",
    "\t\ta=int(input(\"Input first no:\"))\n",
    "\t\tb=int(input(\"Input second no:\"))\n",
    "\t\tc=a/b\n",
    "\t\tprint(\"Div is \",c)\n",
    "\t\tbreak;\n",
    "\texcept ZeroDivisionError:\n",
    "\t\tprint(\"Denominator should not be zero\")\t\n",
    "\tfinally:\n",
    "\t\tprint(\"Thank you for using the app!\")\t\n"
   ]
  },
  {
   "cell_type": "markdown",
   "metadata": {},
   "source": [
    "Python has many built-in exceptions which forces our program to output an error when something in it goes wrong.\n",
    "\n",
    "\n",
    "\n",
    "However, sometimes we may need to create our own exceptions which will be more suitable for our purpose.\n",
    "\n",
    "\n",
    "Such exceptions are called User Defined Exceptions\n"
   ]
  },
  {
   "cell_type": "code",
   "execution_count": 1,
   "metadata": {},
   "outputs": [],
   "source": [
    "class NegativeNumberException(Exception):\n",
    "    def __init__(self):\n",
    "        print(\"please type a pos number\")\n"
   ]
  },
  {
   "cell_type": "code",
   "execution_count": null,
   "metadata": {},
   "outputs": [
    {
     "name": "stdout",
     "output_type": "stream",
     "text": [
      "Input first no:10\n",
      "Input second no:-1\n",
      "please type a pos number\n",
      "\n"
     ]
    }
   ],
   "source": [
    "while(True):\n",
    "\ttry:\n",
    "\t\ta=int(input(\"Input first no:\"))\n",
    "\t\tb=int(input(\"Input second no:\"))\n",
    "\t\tif a<0 or b<0:\n",
    "\t\t\traise NegativeNumberException()\n",
    "\t\tc=a/b\n",
    "\t\tprint(\"Div is \",c)\n",
    "\t\tbreak;\n",
    "\texcept ValueError:\n",
    "\t\tprint(\"Please input integers only! Try again\")\t\n",
    "\texcept ZeroDivisionError:\n",
    "\t\tprint(\"Please input non-zero denominator\")\t\n",
    "\texcept NegativeNumberException as e:\n",
    "\t\tprint(e)\t\n"
   ]
  },
  {
   "cell_type": "code",
   "execution_count": 7,
   "metadata": {},
   "outputs": [
    {
     "data": {
      "text/plain": [
       "7.38905609893065"
      ]
     },
     "execution_count": 7,
     "metadata": {},
     "output_type": "execute_result"
    }
   ],
   "source": [
    "ans"
   ]
  },
  {
   "cell_type": "code",
   "execution_count": null,
   "metadata": {},
   "outputs": [],
   "source": []
  }
 ],
 "metadata": {
  "colab": {
   "collapsed_sections": [],
   "name": "14. Error handling.ipynb",
   "provenance": [],
   "toc_visible": true
  },
  "kernelspec": {
   "display_name": "Python 3 (ipykernel)",
   "language": "python",
   "name": "python3"
  },
  "language_info": {
   "codemirror_mode": {
    "name": "ipython",
    "version": 3
   },
   "file_extension": ".py",
   "mimetype": "text/x-python",
   "name": "python",
   "nbconvert_exporter": "python",
   "pygments_lexer": "ipython3",
   "version": "3.11.5"
  }
 },
 "nbformat": 4,
 "nbformat_minor": 4
}
